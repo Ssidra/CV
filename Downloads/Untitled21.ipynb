{
 "cells": [
  {
   "cell_type": "code",
   "execution_count": 3,
   "metadata": {},
   "outputs": [
    {
     "name": "stdout",
     "output_type": "stream",
     "text": [
      "(60000, 28, 28)\n",
      "(10000, 28, 28)\n"
     ]
    },
    {
     "data": {
      "image/png": "[encoded data removed]",
      "text/plain": [
       "<matplotlib.figure.Figure at 0x7fda37c39978>"
      ]
     },
     "metadata": {},
     "output_type": "display_data"
    },
    {
     "name": "stdout",
     "output_type": "stream",
     "text": [
      "[[0 0 0 0 0 1 0 0 0 0]\n",
      " [1 0 0 0 0 0 0 0 0 0]\n",
      " [0 0 0 0 1 0 0 0 0 0]\n",
      " [0 1 0 0 0 0 0 0 0 0]\n",
      " [0 0 0 0 0 0 0 0 0 1]\n",
      " [0 0 1 0 0 0 0 0 0 0]\n",
      " [0 1 0 0 0 0 0 0 0 0]\n",
      " [0 0 0 1 0 0 0 0 0 0]\n",
      " [0 1 0 0 0 0 0 0 0 0]\n",
      " [0 0 0 0 1 0 0 0 0 0]]\n",
      "[5 0 4 1 9 2 1 3 1 4]\n",
      "Train on 60000 samples, validate on 10000 samples\n",
      "Epoch 1/10\n",
      "60000/60000 [==============================] - 6s 103us/step - loss: 0.7762 - acc: 0.8270 - val_loss: 0.3158 - val_acc: 0.9181\n",
      "Epoch 2/10\n",
      "60000/60000 [==============================] - 6s 98us/step - loss: 0.2678 - acc: 0.9245 - val_loss: 0.2200 - val_acc: 0.9383\n",
      "Epoch 3/10\n",
      "60000/60000 [==============================] - 6s 98us/step - loss: 0.1988 - acc: 0.9427 - val_loss: 0.1762 - val_acc: 0.9484\n",
      "Epoch 4/10\n",
      "60000/60000 [==============================] - 6s 98us/step - loss: 0.1587 - acc: 0.9539 - val_loss: 0.1487 - val_acc: 0.9562\n",
      "Epoch 5/10\n",
      "60000/60000 [==============================] - 6s 98us/step - loss: 0.1308 - acc: 0.9618 - val_loss: 0.1282 - val_acc: 0.9637\n",
      "Epoch 6/10\n",
      "60000/60000 [==============================] - 6s 99us/step - loss: 0.1093 - acc: 0.9684 - val_loss: 0.1133 - val_acc: 0.9678\n",
      "Epoch 7/10\n",
      "60000/60000 [==============================] - 6s 98us/step - loss: 0.0927 - acc: 0.9732 - val_loss: 0.1055 - val_acc: 0.9692\n",
      "Epoch 8/10\n",
      "60000/60000 [==============================] - 6s 97us/step - loss: 0.0798 - acc: 0.9770 - val_loss: 0.0957 - val_acc: 0.9715\n",
      "Epoch 9/10\n",
      "60000/60000 [==============================] - 6s 101us/step - loss: 0.0689 - acc: 0.9807 - val_loss: 0.0919 - val_acc: 0.9719\n",
      "Epoch 10/10\n",
      "60000/60000 [==============================] - 6s 99us/step - loss: 0.0602 - acc: 0.9829 - val_loss: 0.0866 - val_acc: 0.9743\n"
     ]
    },
    {
     "data": {
      "image/png": "[encoded data removed]",
      "text/plain": [
       "<matplotlib.figure.Figure at 0x7fda37ab4780>"
      ]
     },
     "metadata": {},
     "output_type": "display_data"
    },
    {
     "name": "stdout",
     "output_type": "stream",
     "text": [
      "This is actually a 6\n",
      "\n",
      "[[4.9623002e-05 2.4774356e-06 3.7593723e-05 2.4242105e-08 5.7744968e-05\n",
      "  9.8872852e-06 9.9983644e-01 1.5942787e-08 6.0903221e-06 6.8578387e-08]]\n",
      "\n",
      "99.98364448547363 % chance of this being a 6\n"
     ]
    }
   ],
   "source": [
    "import numpy as np\n",
    "from keras.datasets import mnist\n",
    "\n",
    "(X_train, y_train), (X_test, y_test) = mnist.load_data()\n",
    "print(X_train.shape)\n",
    "print(X_test.shape)\n",
    "\n",
    "\n",
    "import matplotlib.pyplot as plt\n",
    "\n",
    "f,ax = plt.subplots(1,3, figsize=(16,3))\n",
    "ax[0].imshow(X_train[0])\n",
    "ax[1].imshow(X_train[1])\n",
    "ax[2].imshow(X_train[2])\n",
    "plt.show()\n",
    "\n",
    "\n",
    "from sklearn.preprocessing import LabelBinarizer\n",
    "\n",
    "# all inputs are defined as vectors, i.e. we collapse a 28x28 image to a 784 feature vector\n",
    "# all inputs should be scaled to the range [0,1] (images are in the range [0,255])\n",
    "X  = X_train.reshape(60000,784) / 255\n",
    "Xt = X_test.reshape( 10000,784) / 255\n",
    "\n",
    "# all outputs are defined as categorical values. We do a one-hot encoding of these\n",
    "categorical_transform = LabelBinarizer().fit(np.arange(10)) # labels are in the range [0,10]\n",
    "y  = categorical_transform.transform(y_train)\n",
    "yt = categorical_transform.transform(y_test)\n",
    "\n",
    "print(y[:10,:])\n",
    "print(y_train[:10])\n",
    "\n",
    "\n",
    "from keras.models import Sequential\n",
    "from keras.layers import Dense\n",
    "\n",
    "# create a model of sequential layers \n",
    "model = Sequential()\n",
    "\n",
    "# add the first layer, this *requires* you to specify the input dimension (our 28*28=784 px images)\n",
    "model.add(Dense(input_dim=784, units = 100, activation='sigmoid'))\n",
    "\n",
    "# add the second layer. All layers require you to specify the number of neurons (units)\n",
    "model.add(Dense(               units =  49, activation='sigmoid'))\n",
    "\n",
    "# the third and final output layer. We here use the 'softmax' activation function since we want to classify\n",
    "# the numbers [0-9] with a percentage prediction\n",
    "model.add(Dense(               units =  10, activation='softmax'))\n",
    "\n",
    "# finish the model and compile it so it is ready for training\n",
    "model.compile(optimizer= 'adam',                     \n",
    "              loss     = 'categorical_crossentropy',\n",
    "              metrics  = ['accuracy'])\n",
    "\n",
    "\n",
    "model.fit(X, y,\n",
    "         epochs=10,\n",
    "         batch_size=100,\n",
    "         validation_data=(Xt,yt))\n",
    "\n",
    "i = 201 # choose one test image index\n",
    "\n",
    "# show one of the test images\n",
    "plt.imshow(X_test[i,:,:])\n",
    "plt.show()\n",
    "print('This is actually a', y_test[i]) # this is what it is *supposed* to be\n",
    "print()\n",
    "\n",
    "# do a prediction using our model\n",
    "prediction = model.predict(X_test[i,:,:].reshape(1,28*28)) # remember to roll the image data into a vector\n",
    "\n",
    "\n",
    "# the prediction is a vector of 10 (output nodes) with % probability of that being the shown digit (softmax function)\n",
    "print(prediction)\n",
    "print()\n",
    "print('{} % chance of this being a {}'.format(prediction[0,y_test[i]]*100, y_test[i]))"
   ]
  },
  {
   "cell_type": "code",
   "execution_count": null,
   "metadata": {},
   "outputs": [],
   "source": []
  },
  {
   "cell_type": "code",
   "execution_count": null,
   "metadata": {},
   "outputs": [],
   "source": []
  }
 ],
 "metadata": {
  "kernelspec": {
   "display_name": "Python 3",
   "language": "python",
   "name": "python3"
  },
  "language_info": {
   "codemirror_mode": {
    "name": "ipython",
    "version": 3
   },
   "file_extension": ".py",
   "mimetype": "text/x-python",
   "name": "python",
   "nbconvert_exporter": "python",
   "pygments_lexer": "ipython3",
   "version": "3.6.3"
  }
 },
 "nbformat": 4,
 "nbformat_minor": 2
}
